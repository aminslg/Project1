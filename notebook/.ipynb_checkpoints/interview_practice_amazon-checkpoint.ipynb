{
 "cells": [
  {
   "cell_type": "code",
   "execution_count": 1,
   "metadata": {},
   "outputs": [],
   "source": [
    "import pandas as pd\n",
    "import numpy as np"
   ]
  },
  {
   "cell_type": "code",
   "execution_count": 2,
   "metadata": {},
   "outputs": [],
   "source": [
    "def my_sum(n):\n",
    "    sum_ = 0\n",
    "    for i in range(n+1):\n",
    "        sum_ += i\n",
    "    return(sum_)    \n",
    "    "
   ]
  },
  {
   "cell_type": "code",
   "execution_count": 4,
   "metadata": {},
   "outputs": [
    {
     "data": {
      "text/plain": [
       "55"
      ]
     },
     "execution_count": 4,
     "metadata": {},
     "output_type": "execute_result"
    }
   ],
   "source": [
    "my_sum(10)"
   ]
  },
  {
   "cell_type": "code",
   "execution_count": 8,
   "metadata": {},
   "outputs": [],
   "source": [
    "# https://yourbasic.org/algorithms/time-complexity-recursive-functions/\n",
    "\n",
    "# Master theoream in calculating big O\n",
    "# T(n) = K + T(n-1) -> O(n)\n",
    "# T(n) = K + T(n/2) -> O(logn)\n",
    "# Look at master theoream in link above for a more general case.\n",
    "\n",
    "\n",
    "def my_sum2(n):\n",
    "    if n==1:\n",
    "        return(1)\n",
    "    else:\n",
    "        return(n + my_sum2(n-1))"
   ]
  },
  {
   "cell_type": "code",
   "execution_count": 9,
   "metadata": {},
   "outputs": [
    {
     "data": {
      "text/plain": [
       "55"
      ]
     },
     "execution_count": 9,
     "metadata": {},
     "output_type": "execute_result"
    }
   ],
   "source": [
    "my_sum2(10)"
   ]
  },
  {
   "cell_type": "code",
   "execution_count": 1,
   "metadata": {},
   "outputs": [],
   "source": [
    "def b_s(a, x): \n",
    "    '''binary seacrh\n",
    "       a: is sorted array'''\n",
    "    mid_index = len(a)//2\n",
    "    if len(a)==1:\n",
    "        return (True,mid_index) if x==a[0] else False\n",
    "    elif x < a[mid_index]:\n",
    "        return(b_s(a[:mid_index] , x))\n",
    "    else:\n",
    "        return(b_s(a[mid_index:],x))"
   ]
  },
  {
   "cell_type": "code",
   "execution_count": 2,
   "metadata": {},
   "outputs": [],
   "source": [
    "tmp = [1,2,4,9,12]"
   ]
  },
  {
   "cell_type": "code",
   "execution_count": 4,
   "metadata": {},
   "outputs": [
    {
     "data": {
      "text/plain": [
       "(True, 0)"
      ]
     },
     "execution_count": 4,
     "metadata": {},
     "output_type": "execute_result"
    }
   ],
   "source": [
    "b_s(tmp,9)"
   ]
  },
  {
   "cell_type": "code",
   "execution_count": 71,
   "metadata": {},
   "outputs": [],
   "source": [
    "def b_s2(array, l, r, x):\n",
    "    if r >= l:\n",
    "        mid = l + (r-l)//2\n",
    "        if array[mid] == x:\n",
    "            return mid\n",
    "        elif x < array[mid]:\n",
    "            return b_s2(array,l, mid-1,x)\n",
    "        else:\n",
    "            return b_s2(array,mid+1,r,x)\n",
    "    else:\n",
    "        return -1"
   ]
  },
  {
   "cell_type": "code",
   "execution_count": 72,
   "metadata": {},
   "outputs": [
    {
     "data": {
      "text/plain": [
       "4"
      ]
     },
     "execution_count": 72,
     "metadata": {},
     "output_type": "execute_result"
    }
   ],
   "source": [
    "b_s2(tmp,0,len(tmp)-1,12)"
   ]
  },
  {
   "cell_type": "code",
   "execution_count": 1,
   "metadata": {},
   "outputs": [],
   "source": [
    "# merge sort O(nlogn)\n",
    "def merge_sort(array):\n",
    "    if len(array) > 1:\n",
    "        mid = len(array)//2\n",
    "        L = array[:mid]\n",
    "        R = array[mid:]\n",
    "        merge_sort(L)\n",
    "        merge_sort(R)\n",
    "        i=j=k=0\n",
    "        while i < len(L) and j < len(R):\n",
    "            if L[i] < R[j]:\n",
    "                array[k] = L[i]\n",
    "                i+=1\n",
    "                k+=1\n",
    "            else:\n",
    "                array[k] = R[j]\n",
    "                j+=1\n",
    "                k+=1\n",
    "        while i < len(L):\n",
    "            array[k]=L[i]\n",
    "            i+=1\n",
    "            k+=1\n",
    "        while j < len(R):\n",
    "            array[k]=R[j]\n",
    "            j+=1\n",
    "            k+=1 \n",
    "            "
   ]
  },
  {
   "cell_type": "code",
   "execution_count": 2,
   "metadata": {},
   "outputs": [],
   "source": [
    "tmp = [8,1,3,10,-1,12,0,9]"
   ]
  },
  {
   "cell_type": "code",
   "execution_count": 3,
   "metadata": {},
   "outputs": [],
   "source": [
    "merge_sort(tmp)"
   ]
  },
  {
   "cell_type": "code",
   "execution_count": 4,
   "metadata": {
    "scrolled": true
   },
   "outputs": [
    {
     "data": {
      "text/plain": [
       "[-1, 0, 1, 3, 8, 9, 10, 12]"
      ]
     },
     "execution_count": 4,
     "metadata": {},
     "output_type": "execute_result"
    }
   ],
   "source": [
    "tmp"
   ]
  },
  {
   "cell_type": "code",
   "execution_count": 5,
   "metadata": {},
   "outputs": [],
   "source": [
    "test =[12,1,10,2,14,5]"
   ]
  },
  {
   "cell_type": "code",
   "execution_count": 6,
   "metadata": {},
   "outputs": [],
   "source": [
    "merge_sort(test)"
   ]
  },
  {
   "cell_type": "code",
   "execution_count": 7,
   "metadata": {},
   "outputs": [
    {
     "data": {
      "text/plain": [
       "[1, 2, 5, 10, 12, 14]"
      ]
     },
     "execution_count": 7,
     "metadata": {},
     "output_type": "execute_result"
    }
   ],
   "source": [
    "test"
   ]
  },
  {
   "cell_type": "code",
   "execution_count": 83,
   "metadata": {},
   "outputs": [],
   "source": [
    "## selection sort (O(n^2))\n",
    "def selectionSort(array):\n",
    "    size = len(array)\n",
    "    \n",
    "    for i in range(size-1):\n",
    "        minIndex = i\n",
    "        for j in range(i+1,size):\n",
    "            if array[j] < array[minIndex]:\n",
    "                minIndex = j\n",
    "        tmp = array[minIndex]\n",
    "        array[minIndex] = array[i]\n",
    "        array[i] = tmp\n",
    "                "
   ]
  },
  {
   "cell_type": "code",
   "execution_count": 90,
   "metadata": {},
   "outputs": [],
   "source": [
    "selectionSort(tmp)"
   ]
  },
  {
   "cell_type": "code",
   "execution_count": 91,
   "metadata": {},
   "outputs": [
    {
     "data": {
      "text/plain": [
       "[-1, 0, 1, 3, 8, 9, 10, 12]"
      ]
     },
     "execution_count": 91,
     "metadata": {},
     "output_type": "execute_result"
    }
   ],
   "source": [
    "tmp"
   ]
  },
  {
   "cell_type": "code",
   "execution_count": 83,
   "metadata": {},
   "outputs": [],
   "source": [
    "#https://www.geeksforgeeks.org/print-longest-substring-without-repeating-characters/\n",
    "test = 'abcdeabc'\n",
    "\n",
    "def findLongestSubstring(string): \n",
    "  \n",
    "    n = len(string)  \n",
    "  \n",
    "    # starting point of current substring.  \n",
    "    st = 0\n",
    "  \n",
    "    # maximum length substring without  \n",
    "    # repeating characters.  \n",
    "    maxlen = 0\n",
    "  \n",
    "    # starting index of maximum  \n",
    "    # length substring.  \n",
    "    start = 0\n",
    "  \n",
    "    # Hash Map to store last occurrence  \n",
    "    # of each already visited character.  \n",
    "    pos = {}  \n",
    "  \n",
    "    # Last occurrence of first \n",
    "    # character is index 0  \n",
    "    pos[string[0]] = 0\n",
    "  \n",
    "    for i in range(1, n):  \n",
    "  \n",
    "        # If this character is not present in hash,  \n",
    "        # then this is first occurrence of this  \n",
    "        # character, store this in hash.  \n",
    "        if string[i] not in pos:  \n",
    "            pos[string[i]] = i  \n",
    "  \n",
    "        else: \n",
    "            # If this character is present in hash then  \n",
    "            # this character has previous occurrence,  \n",
    "            # check if that occurrence is before or after  \n",
    "            # starting point of current substring.  \n",
    "            if pos[string[i]] >= st:  \n",
    "  \n",
    "                # find length of current substring and  \n",
    "                # update maxlen and start accordingly.  \n",
    "                currlen = i - st  \n",
    "                if maxlen < currlen:  \n",
    "                    maxlen = currlen  \n",
    "                    start = st  \n",
    "  \n",
    "                # Next substring will start after the last  \n",
    "                # occurrence of current character to avoid  \n",
    "                # its repetition.  \n",
    "                st = pos[string[i]] + 1\n",
    "              \n",
    "            # Update last occurrence of  \n",
    "            # current character.  \n",
    "            pos[string[i]] = i  \n",
    "          \n",
    "    # Compare length of last substring with maxlen  \n",
    "    # and update maxlen and start accordingly.  \n",
    "    if maxlen < i - st:  \n",
    "        maxlen = i - st  \n",
    "        start = st  \n",
    "      \n",
    "    # The required longest substring without  \n",
    "    # repeating characters is from string[start]  \n",
    "    # to string[start+maxlen-1].  \n",
    "    return string[start : start + maxlen]  "
   ]
  },
  {
   "cell_type": "code",
   "execution_count": 85,
   "metadata": {},
   "outputs": [
    {
     "data": {
      "text/plain": [
       "'abcde'"
      ]
     },
     "execution_count": 85,
     "metadata": {},
     "output_type": "execute_result"
    }
   ],
   "source": [
    "findLongestSubstring(test)"
   ]
  },
  {
   "cell_type": "code",
   "execution_count": 143,
   "metadata": {},
   "outputs": [],
   "source": [
    "from sys import maxsize \n",
    "def maxSubArray(array):\n",
    "    n = len(array)\n",
    "    max_so_far = -maxsize\n",
    "    start = 0\n",
    "    end = 0\n",
    "    s = 0\n",
    "    current_sum = 0\n",
    "    for i in range(0,n):\n",
    "        current_sum += array[i]\n",
    "        if current_sum > max_so_far:\n",
    "            max_so_far = current_sum\n",
    "            start = s\n",
    "            end = i\n",
    "        if current_sum <0:\n",
    "            current_sum = 0\n",
    "            s = i+1\n",
    "    print('max sum array is {}, and start index is {}, end index is {}'.format(max_so_far, start, end))       \n",
    "        "
   ]
  },
  {
   "cell_type": "code",
   "execution_count": 144,
   "metadata": {},
   "outputs": [
    {
     "name": "stdout",
     "output_type": "stream",
     "text": [
      "max sum array is 11, and start index is 3, end index is 4\n"
     ]
    }
   ],
   "source": [
    "maxSubArray([1,2,-5,10,1])"
   ]
  },
  {
   "cell_type": "code",
   "execution_count": 145,
   "metadata": {},
   "outputs": [
    {
     "name": "stdout",
     "output_type": "stream",
     "text": [
      "max sum array is 3, and start index is 0, end index is 1\n"
     ]
    }
   ],
   "source": [
    "maxSubArray([1,2,-5,-3,-4])"
   ]
  },
  {
   "cell_type": "code",
   "execution_count": 146,
   "metadata": {},
   "outputs": [],
   "source": [
    "# def maxSubArraySum(a): \n",
    "#     n = len(a)\n",
    "#     max_so_far = -maxsize \n",
    "#     max_ending_here = 0\n",
    "#     start = 0\n",
    "#     end = 0\n",
    "#     s = 0\n",
    "  \n",
    "#     for i in range(0,n): \n",
    "  \n",
    "#         max_ending_here += a[i] \n",
    "  \n",
    "#         if max_so_far < max_ending_here: \n",
    "#             max_so_far = max_ending_here \n",
    "#             start = s \n",
    "#             end = i \n",
    "  \n",
    "#         if max_ending_here < 0: \n",
    "#             max_ending_here = 0\n",
    "#             s = i+1\n",
    "  \n",
    "#     print (\"Maximum contiguous sum is %d\"%(max_so_far)) \n",
    "#     print (\"Starting Index %d\"%(start)) \n",
    "#     print (\"Ending Index %d\"%(end)) "
   ]
  },
  {
   "cell_type": "code",
   "execution_count": 147,
   "metadata": {
    "scrolled": true
   },
   "outputs": [],
   "source": [
    "#maxSubArraySum([1,2,-5,-3,-4])"
   ]
  },
  {
   "cell_type": "code",
   "execution_count": 11,
   "metadata": {},
   "outputs": [],
   "source": [
    "# https://www.geeksforgeeks.org/find-the-smallest-positive-number-missing-from-an-unsorted-array/\n",
    "def smallest_missing_positive(array):\n",
    "    m = max(array)\n",
    "    if m <=0:\n",
    "        return 1\n",
    "    if len(array)==1:\n",
    "        return 1 if array[0]!=1 else 2\n",
    "    tmp = [0]*m\n",
    "    for i in range(0,len(array)):\n",
    "        if array[i] > 0:\n",
    "            if tmp[array[i]-1]!=1:\n",
    "                tmp[array[i]-1] = 1\n",
    "    for i in range(len(tmp)):\n",
    "        if(tmp[i]==0):\n",
    "            return(i+1)\n",
    "        \n",
    "    return(i+2)   "
   ]
  },
  {
   "cell_type": "code",
   "execution_count": 12,
   "metadata": {},
   "outputs": [
    {
     "data": {
      "text/plain": [
       "4"
      ]
     },
     "execution_count": 12,
     "metadata": {},
     "output_type": "execute_result"
    }
   ],
   "source": [
    "smallest_missing_positive([1,2,-5,3,5])"
   ]
  },
  {
   "cell_type": "code",
   "execution_count": 22,
   "metadata": {},
   "outputs": [],
   "source": [
    "# prime number\n",
    "def IsPrime(num):\n",
    "    if num < 2:\n",
    "        return False\n",
    "    elif num==2:\n",
    "        return True\n",
    "    else:\n",
    "        for i in range(2,num):\n",
    "            if(num%i==0):\n",
    "                return False\n",
    "                \n",
    "    return True        "
   ]
  },
  {
   "cell_type": "code",
   "execution_count": null,
   "metadata": {},
   "outputs": [],
   "source": [
    "# def isprime(n):\n",
    "#     '''check if integer n is a prime'''\n",
    "\n",
    "#     # make sure n is a positive integer\n",
    "#     n = abs(int(n))\n",
    "\n",
    "#     # 0 and 1 are not primes\n",
    "#     if n < 2:\n",
    "#         return False\n",
    "\n",
    "#     # 2 is the only even prime number\n",
    "#     if n == 2: \n",
    "#         return True    \n",
    "\n",
    "#     # all other even numbers are not primes\n",
    "#     if not n & 1: # bitwise operation https://www.geeksforgeeks.org/3-ways-check-number-odd-even-without-using-modulus-operator-set-2-can-merge-httpswww-geeksforgeeks-orgcheck-whether-given-number-even-odd/\n",
    "#         return False\n",
    "\n",
    "#     # range starts with 3 and only needs to go up \n",
    "#     # the square root of n for all odd numbers\n",
    "#     for x in range(3, int(n**0.5) + 1, 2):\n",
    "#         if n % x == 0:\n",
    "#             return False\n",
    "\n",
    "#     return True"
   ]
  },
  {
   "cell_type": "code",
   "execution_count": 8,
   "metadata": {},
   "outputs": [],
   "source": [
    "def isPrime(n):\n",
    "    n = abs(int(n))\n",
    "    if n < 2:\n",
    "        return False\n",
    "    if n==2:\n",
    "        return True\n",
    "    if n%2==0: # if not n&1\n",
    "        return False\n",
    "    for i in range(3,int(n**0.5)+1,2):\n",
    "        if n%i==0:\n",
    "            return False\n",
    "        else:\n",
    "            return True     "
   ]
  },
  {
   "cell_type": "code",
   "execution_count": 9,
   "metadata": {},
   "outputs": [
    {
     "data": {
      "text/plain": [
       "True"
      ]
     },
     "execution_count": 9,
     "metadata": {},
     "output_type": "execute_result"
    }
   ],
   "source": [
    "isPrime(23)"
   ]
  },
  {
   "cell_type": "code",
   "execution_count": 34,
   "metadata": {},
   "outputs": [],
   "source": [
    "def fib(n):\n",
    "    if n<=1:\n",
    "        return n\n",
    "    else:\n",
    "        return fib(n-1) + fib(n-2)"
   ]
  },
  {
   "cell_type": "code",
   "execution_count": 39,
   "metadata": {},
   "outputs": [
    {
     "data": {
      "text/plain": [
       "21"
      ]
     },
     "execution_count": 39,
     "metadata": {},
     "output_type": "execute_result"
    }
   ],
   "source": [
    "fib(8)"
   ]
  },
  {
   "cell_type": "code",
   "execution_count": 49,
   "metadata": {},
   "outputs": [],
   "source": [
    "def fib2(n):\n",
    "    if n < 2:\n",
    "        return n\n",
    "    else:\n",
    "        first = 0\n",
    "        second = 1\n",
    "        for i in range(1,n):\n",
    "            third = first + second\n",
    "            first = second\n",
    "            second = third\n",
    "    return(third)    "
   ]
  },
  {
   "cell_type": "code",
   "execution_count": 55,
   "metadata": {},
   "outputs": [
    {
     "data": {
      "text/plain": [
       "21"
      ]
     },
     "execution_count": 55,
     "metadata": {},
     "output_type": "execute_result"
    }
   ],
   "source": [
    "fib2(8)"
   ]
  },
  {
   "cell_type": "code",
   "execution_count": 57,
   "metadata": {},
   "outputs": [],
   "source": [
    "def isFib(n):\n",
    "    start = 0\n",
    "    while(fib2(start) <= n):\n",
    "        if fib2(start)==n:\n",
    "            return True\n",
    "        else:\n",
    "            start += 1\n",
    "    return False        "
   ]
  },
  {
   "cell_type": "code",
   "execution_count": 58,
   "metadata": {},
   "outputs": [
    {
     "data": {
      "text/plain": [
       "True"
      ]
     },
     "execution_count": 58,
     "metadata": {},
     "output_type": "execute_result"
    }
   ],
   "source": [
    "isFib(21)"
   ]
  },
  {
   "cell_type": "code",
   "execution_count": 62,
   "metadata": {},
   "outputs": [],
   "source": [
    "def isPerfectSq(num):\n",
    "    return True if (int(num**0.5))**2==num else False"
   ]
  },
  {
   "cell_type": "code",
   "execution_count": 65,
   "metadata": {},
   "outputs": [
    {
     "data": {
      "text/plain": [
       "False"
      ]
     },
     "execution_count": 65,
     "metadata": {},
     "output_type": "execute_result"
    }
   ],
   "source": [
    "isPerfectSq(120)"
   ]
  },
  {
   "cell_type": "code",
   "execution_count": 66,
   "metadata": {},
   "outputs": [],
   "source": [
    "def isFib2(num):\n",
    "    return True if (isPerfectSq(5*num**2 + 4) or isPerfectSq(5*num**2 - 4)) else False"
   ]
  },
  {
   "cell_type": "code",
   "execution_count": 68,
   "metadata": {},
   "outputs": [
    {
     "data": {
      "text/plain": [
       "False"
      ]
     },
     "execution_count": 68,
     "metadata": {},
     "output_type": "execute_result"
    }
   ],
   "source": [
    "isFib2(20)"
   ]
  },
  {
   "cell_type": "code",
   "execution_count": null,
   "metadata": {},
   "outputs": [],
   "source": [
    "# repeated character in a string"
   ]
  },
  {
   "cell_type": "code",
   "execution_count": 10,
   "metadata": {},
   "outputs": [],
   "source": [
    "def repeated_char(string):\n",
    "    tmp = {}\n",
    "    for s_ in string:\n",
    "        if s_ not in tmp:\n",
    "            tmp[s_] = 1\n",
    "        else:\n",
    "            tmp[s_] += 1\n",
    "    return [(k,v) for k, v in tmp.items() if v>=2]         "
   ]
  },
  {
   "cell_type": "code",
   "execution_count": 11,
   "metadata": {},
   "outputs": [
    {
     "data": {
      "text/plain": [
       "[('a', 5), ('b', 2)]"
      ]
     },
     "execution_count": 11,
     "metadata": {},
     "output_type": "execute_result"
    }
   ],
   "source": [
    "mystring = 'abcdeabaaa'\n",
    "repeated_char(mystring)"
   ]
  },
  {
   "cell_type": "code",
   "execution_count": 6,
   "metadata": {},
   "outputs": [],
   "source": [
    "x = {1: 2, 3: 4, 4: 3, 2: 1, 0: 0}"
   ]
  },
  {
   "cell_type": "code",
   "execution_count": 14,
   "metadata": {},
   "outputs": [
    {
     "data": {
      "text/plain": [
       "3"
      ]
     },
     "execution_count": 14,
     "metadata": {},
     "output_type": "execute_result"
    }
   ],
   "source": [
    "list({k:v for k,v in sorted(x.items(), key=lambda x:x[1],reverse=True)}.keys())[0]"
   ]
  },
  {
   "cell_type": "code",
   "execution_count": 15,
   "metadata": {},
   "outputs": [
    {
     "data": {
      "text/plain": [
       "dict_items([(1, 2), (3, 4), (4, 3), (2, 1), (0, 0)])"
      ]
     },
     "execution_count": 15,
     "metadata": {},
     "output_type": "execute_result"
    }
   ],
   "source": [
    "x.items()"
   ]
  },
  {
   "cell_type": "code",
   "execution_count": null,
   "metadata": {},
   "outputs": [],
   "source": []
  },
  {
   "cell_type": "code",
   "execution_count": 96,
   "metadata": {},
   "outputs": [],
   "source": [
    "import numpy as np\n",
    "def PI_MC(m):\n",
    "    cnt = 0\n",
    "    for i in range(m):\n",
    "        x = np.random.uniform(low=-1,high=1) \n",
    "        y = np.random.uniform(low=-1,high=1)\n",
    "        if (x**2 + y**2)<=1:\n",
    "            cnt += 1\n",
    "    return(4*cnt/m)        \n",
    "        "
   ]
  },
  {
   "cell_type": "code",
   "execution_count": 99,
   "metadata": {},
   "outputs": [
    {
     "data": {
      "text/plain": [
       "3.140568"
      ]
     },
     "execution_count": 99,
     "metadata": {},
     "output_type": "execute_result"
    }
   ],
   "source": [
    "PI_MC(1000000)"
   ]
  },
  {
   "cell_type": "code",
   "execution_count": 131,
   "metadata": {},
   "outputs": [],
   "source": [
    "## Extract digits from a integer number\n",
    "def getdigits(n):\n",
    "    if n < 10:\n",
    "        return [n]\n",
    "    return getdigits(n//10) + [n%10]\n",
    "         "
   ]
  },
  {
   "cell_type": "code",
   "execution_count": 125,
   "metadata": {},
   "outputs": [],
   "source": [
    "def extractDigit2(num):\n",
    "    digit = []\n",
    "    while(num >= 10):\n",
    "        digit.append(num%10)\n",
    "        num = num//10\n",
    "    digit.append(num)    \n",
    "    return(digit)    \n",
    "    "
   ]
  },
  {
   "cell_type": "code",
   "execution_count": 12,
   "metadata": {},
   "outputs": [],
   "source": [
    "num = 123"
   ]
  },
  {
   "cell_type": "code",
   "execution_count": 14,
   "metadata": {},
   "outputs": [
    {
     "data": {
      "text/plain": [
       "[3, 2, 1]"
      ]
     },
     "execution_count": 14,
     "metadata": {},
     "output_type": "execute_result"
    }
   ],
   "source": [
    "[int(d) for d in str(num)][-1::-1]"
   ]
  },
  {
   "cell_type": "code",
   "execution_count": 103,
   "metadata": {},
   "outputs": [
    {
     "data": {
      "text/plain": [
       "321"
      ]
     },
     "execution_count": 103,
     "metadata": {},
     "output_type": "execute_result"
    }
   ],
   "source": [
    "int(str(num)[-1::-1])"
   ]
  },
  {
   "cell_type": "code",
   "execution_count": 132,
   "metadata": {},
   "outputs": [
    {
     "data": {
      "text/plain": [
       "[1, 2, 3]"
      ]
     },
     "execution_count": 132,
     "metadata": {},
     "output_type": "execute_result"
    }
   ],
   "source": [
    "getdigits(num)"
   ]
  },
  {
   "cell_type": "code",
   "execution_count": null,
   "metadata": {},
   "outputs": [],
   "source": [
    "# Bit operation"
   ]
  },
  {
   "cell_type": "code",
   "execution_count": 5,
   "metadata": {},
   "outputs": [],
   "source": [
    "n = 23"
   ]
  },
  {
   "cell_type": "code",
   "execution_count": 9,
   "metadata": {
    "scrolled": true
   },
   "outputs": [
    {
     "data": {
      "text/plain": [
       "'10111'"
      ]
     },
     "execution_count": 9,
     "metadata": {},
     "output_type": "execute_result"
    }
   ],
   "source": [
    "\"{0:b}\".format(n)"
   ]
  },
  {
   "cell_type": "code",
   "execution_count": 10,
   "metadata": {
    "scrolled": true
   },
   "outputs": [
    {
     "data": {
      "text/plain": [
       "'1'"
      ]
     },
     "execution_count": 10,
     "metadata": {},
     "output_type": "execute_result"
    }
   ],
   "source": [
    "\"{0:b}\".format(1)"
   ]
  },
  {
   "cell_type": "code",
   "execution_count": 11,
   "metadata": {},
   "outputs": [
    {
     "data": {
      "text/plain": [
       "'10'"
      ]
     },
     "execution_count": 11,
     "metadata": {},
     "output_type": "execute_result"
    }
   ],
   "source": [
    "\"{0:b}\".format(2)"
   ]
  },
  {
   "cell_type": "code",
   "execution_count": 13,
   "metadata": {},
   "outputs": [
    {
     "name": "stdout",
     "output_type": "stream",
     "text": [
      "True\n"
     ]
    }
   ],
   "source": [
    "if (n & 2):\n",
    "    print(True)"
   ]
  },
  {
   "cell_type": "code",
   "execution_count": 15,
   "metadata": {},
   "outputs": [
    {
     "data": {
      "text/plain": [
       "'10'"
      ]
     },
     "execution_count": 15,
     "metadata": {},
     "output_type": "execute_result"
    }
   ],
   "source": [
    "\"{0:b}\".format(n & 2)"
   ]
  },
  {
   "cell_type": "code",
   "execution_count": 16,
   "metadata": {},
   "outputs": [
    {
     "data": {
      "text/plain": [
       "5"
      ]
     },
     "execution_count": 16,
     "metadata": {},
     "output_type": "execute_result"
    }
   ],
   "source": [
    "n >> 2 # shift to the right two times means dividing bt 2 two times which is dividing n by 4. (23//4 = 5)"
   ]
  },
  {
   "cell_type": "code",
   "execution_count": 17,
   "metadata": {},
   "outputs": [
    {
     "data": {
      "text/plain": [
       "92"
      ]
     },
     "execution_count": 17,
     "metadata": {},
     "output_type": "execute_result"
    }
   ],
   "source": [
    "n << 2 # shift to the left two times means multiplying by 4 (23*4 = 92)"
   ]
  },
  {
   "cell_type": "code",
   "execution_count": 18,
   "metadata": {
    "scrolled": true
   },
   "outputs": [
    {
     "data": {
      "text/plain": [
       "23"
      ]
     },
     "execution_count": 18,
     "metadata": {},
     "output_type": "execute_result"
    }
   ],
   "source": [
    "n"
   ]
  },
  {
   "cell_type": "markdown",
   "metadata": {},
   "source": [
    "#### https://simpleprogrammer.com/programming-interview-questions/"
   ]
  },
  {
   "cell_type": "markdown",
   "metadata": {},
   "source": [
    "### How do you find the missing number in a given integer array of 1 to 100?"
   ]
  },
  {
   "cell_type": "code",
   "execution_count": 50,
   "metadata": {},
   "outputs": [],
   "source": [
    "def findMissing(array):\n",
    "    tmp = [0]*max(array)\n",
    "    #print(max(array))\n",
    "    for i in array:\n",
    "        #print(i)\n",
    "        if tmp[i-1]!=1:\n",
    "            tmp[i-1]=1\n",
    "    for i in range(len(tmp)):\n",
    "        if tmp[i]==0:\n",
    "            return(i+1)\n",
    "\n",
    "    return(i+2)        "
   ]
  },
  {
   "cell_type": "code",
   "execution_count": 53,
   "metadata": {},
   "outputs": [],
   "source": [
    "test = [2,5,1,4,6,3]"
   ]
  },
  {
   "cell_type": "code",
   "execution_count": 54,
   "metadata": {
    "scrolled": true
   },
   "outputs": [
    {
     "data": {
      "text/plain": [
       "7"
      ]
     },
     "execution_count": 54,
     "metadata": {},
     "output_type": "execute_result"
    }
   ],
   "source": [
    "findMissing(test)"
   ]
  },
  {
   "cell_type": "code",
   "execution_count": 11,
   "metadata": {},
   "outputs": [],
   "source": [
    "mylist =[]"
   ]
  },
  {
   "cell_type": "code",
   "execution_count": 14,
   "metadata": {},
   "outputs": [],
   "source": [
    "mylist.insert(0,(3,4))"
   ]
  },
  {
   "cell_type": "code",
   "execution_count": 15,
   "metadata": {},
   "outputs": [
    {
     "data": {
      "text/plain": [
       "[(3, 4), (1, 2)]"
      ]
     },
     "execution_count": 15,
     "metadata": {},
     "output_type": "execute_result"
    }
   ],
   "source": [
    "mylist"
   ]
  },
  {
   "cell_type": "code",
   "execution_count": 71,
   "metadata": {},
   "outputs": [],
   "source": [
    "## How do you find the duplicate number on a given integer array?\n",
    "test = [1,2,3,4,5,2,5,10,1]\n",
    "def findDuplicate(array):\n",
    "    tmp = {}\n",
    "    for i in array:\n",
    "        #print(i)\n",
    "        if i not in tmp.keys():\n",
    "            tmp[i] = 1\n",
    "        else:\n",
    "            tmp[i]+=1\n",
    "    return([k for k in  tmp.keys() if tmp[k] >=2])        \n",
    "            \n",
    "    \n",
    "    "
   ]
  },
  {
   "cell_type": "code",
   "execution_count": 72,
   "metadata": {},
   "outputs": [
    {
     "data": {
      "text/plain": [
       "[1, 2, 5]"
      ]
     },
     "execution_count": 72,
     "metadata": {},
     "output_type": "execute_result"
    }
   ],
   "source": [
    "findDuplicate(test)"
   ]
  },
  {
   "cell_type": "code",
   "execution_count": 16,
   "metadata": {},
   "outputs": [],
   "source": [
    "def update_key(d, k):\n",
    "    if k not in d:\n",
    "        d[k] = 1\n",
    "    else:\n",
    "        d[k] += 1\n",
    "        "
   ]
  },
  {
   "cell_type": "code",
   "execution_count": 28,
   "metadata": {},
   "outputs": [],
   "source": [
    "mydict ={}"
   ]
  },
  {
   "cell_type": "code",
   "execution_count": 29,
   "metadata": {},
   "outputs": [],
   "source": [
    "update_key(mydict,3)"
   ]
  },
  {
   "cell_type": "code",
   "execution_count": 30,
   "metadata": {},
   "outputs": [
    {
     "data": {
      "text/plain": [
       "{3: 1}"
      ]
     },
     "execution_count": 30,
     "metadata": {},
     "output_type": "execute_result"
    }
   ],
   "source": [
    "mydict"
   ]
  },
  {
   "cell_type": "code",
   "execution_count": 31,
   "metadata": {},
   "outputs": [],
   "source": [
    "update_key(mydict,1)"
   ]
  },
  {
   "cell_type": "code",
   "execution_count": 32,
   "metadata": {},
   "outputs": [
    {
     "data": {
      "text/plain": [
       "{3: 1, 1: 1}"
      ]
     },
     "execution_count": 32,
     "metadata": {},
     "output_type": "execute_result"
    }
   ],
   "source": [
    "mydict"
   ]
  },
  {
   "cell_type": "code",
   "execution_count": 73,
   "metadata": {},
   "outputs": [],
   "source": [
    "## How do you find all pairs of an integer array whose sum is equal to a given number?"
   ]
  },
  {
   "cell_type": "code",
   "execution_count": 74,
   "metadata": {},
   "outputs": [],
   "source": [
    "test = [1,2,4,5,6,9,8]"
   ]
  },
  {
   "cell_type": "code",
   "execution_count": 79,
   "metadata": {},
   "outputs": [],
   "source": [
    "def findPairs_givenSum(array,s):\n",
    "    count = 0\n",
    "    for i in range(len(array)-1):\n",
    "        for j in range(i+1,len(array)):\n",
    "            if (array[i] + array[j])==s:\n",
    "                print(array[i],array[j])\n",
    "                count += 1\n",
    "    return(count)           "
   ]
  },
  {
   "cell_type": "code",
   "execution_count": 80,
   "metadata": {},
   "outputs": [
    {
     "name": "stdout",
     "output_type": "stream",
     "text": [
      "1 9\n",
      "2 8\n",
      "4 6\n"
     ]
    },
    {
     "data": {
      "text/plain": [
       "3"
      ]
     },
     "execution_count": 80,
     "metadata": {},
     "output_type": "execute_result"
    }
   ],
   "source": [
    "findPairs_givenSum(test,10)"
   ]
  },
  {
   "cell_type": "code",
   "execution_count": 91,
   "metadata": {},
   "outputs": [
    {
     "name": "stdout",
     "output_type": "stream",
     "text": [
      "d\n",
      "100\n",
      "b\n",
      "98\n",
      "c\n",
      "99\n",
      "a\n",
      "97\n",
      "b\n",
      "98\n"
     ]
    }
   ],
   "source": [
    "mystring = 'dbcab'\n",
    "for s_ in mystring:\n",
    "    print(s_)\n",
    "    print(ord(s_))"
   ]
  },
  {
   "cell_type": "code",
   "execution_count": 92,
   "metadata": {},
   "outputs": [],
   "source": [
    "from collections import Counter"
   ]
  },
  {
   "cell_type": "code",
   "execution_count": 93,
   "metadata": {},
   "outputs": [],
   "source": [
    "freq = Counter(mystring)"
   ]
  },
  {
   "cell_type": "code",
   "execution_count": 94,
   "metadata": {},
   "outputs": [
    {
     "data": {
      "text/plain": [
       "Counter({'d': 1, 'b': 2, 'c': 1, 'a': 1})"
      ]
     },
     "execution_count": 94,
     "metadata": {},
     "output_type": "execute_result"
    }
   ],
   "source": [
    "freq"
   ]
  },
  {
   "cell_type": "code",
   "execution_count": 95,
   "metadata": {},
   "outputs": [
    {
     "name": "stdout",
     "output_type": "stream",
     "text": [
      "d\n"
     ]
    }
   ],
   "source": [
    "for s_ in mystring:\n",
    "    if (freq[s_]==1):\n",
    "        print(s_)\n",
    "        break"
   ]
  },
  {
   "cell_type": "code",
   "execution_count": 101,
   "metadata": {},
   "outputs": [
    {
     "name": "stdout",
     "output_type": "stream",
     "text": [
      "48\n"
     ]
    }
   ],
   "source": [
    "print(ord('0'))"
   ]
  },
  {
   "cell_type": "code",
   "execution_count": null,
   "metadata": {},
   "outputs": [],
   "source": [
    "48 to 57"
   ]
  },
  {
   "cell_type": "code",
   "execution_count": 33,
   "metadata": {},
   "outputs": [],
   "source": [
    "mys = '12346a'"
   ]
  },
  {
   "cell_type": "code",
   "execution_count": 35,
   "metadata": {},
   "outputs": [
    {
     "data": {
      "text/plain": [
       "False"
      ]
     },
     "execution_count": 35,
     "metadata": {},
     "output_type": "execute_result"
    }
   ],
   "source": [
    "mys.isdigit()"
   ]
  },
  {
   "cell_type": "code",
   "execution_count": 106,
   "metadata": {},
   "outputs": [],
   "source": [
    "def allDigits(s):\n",
    "    for s_ in mys:\n",
    "        if ord(s_) < 48 | ord(s_) > 57 :\n",
    "            return(False)\n",
    "    return(True)    "
   ]
  },
  {
   "cell_type": "code",
   "execution_count": 120,
   "metadata": {},
   "outputs": [],
   "source": [
    "def allDigits(s):\n",
    "    for s_ in mys:\n",
    "        if s_ <= '0' or s_ >= '9':\n",
    "            return(False)\n",
    "    return(True)    "
   ]
  },
  {
   "cell_type": "code",
   "execution_count": 121,
   "metadata": {},
   "outputs": [
    {
     "data": {
      "text/plain": [
       "False"
      ]
     },
     "execution_count": 121,
     "metadata": {},
     "output_type": "execute_result"
    }
   ],
   "source": [
    "allDigits(mys)"
   ]
  },
  {
   "cell_type": "code",
   "execution_count": 110,
   "metadata": {},
   "outputs": [
    {
     "data": {
      "text/plain": [
       "False"
      ]
     },
     "execution_count": 110,
     "metadata": {},
     "output_type": "execute_result"
    }
   ],
   "source": [
    "mys.isdigit()"
   ]
  },
  {
   "cell_type": "code",
   "execution_count": 111,
   "metadata": {},
   "outputs": [],
   "source": [
    "ch = 'a'"
   ]
  },
  {
   "cell_type": "code",
   "execution_count": 114,
   "metadata": {},
   "outputs": [
    {
     "name": "stdout",
     "output_type": "stream",
     "text": [
      "False\n"
     ]
    }
   ],
   "source": [
    "if ch >= 'b':\n",
    "    print(True)\n",
    "else:\n",
    "    print(False)"
   ]
  },
  {
   "cell_type": "code",
   "execution_count": 129,
   "metadata": {},
   "outputs": [
    {
     "name": "stdout",
     "output_type": "stream",
     "text": [
      "65\n"
     ]
    }
   ],
   "source": [
    "print(ord('A'))"
   ]
  },
  {
   "cell_type": "code",
   "execution_count": 123,
   "metadata": {},
   "outputs": [
    {
     "name": "stdout",
     "output_type": "stream",
     "text": [
      "57\n"
     ]
    }
   ],
   "source": [
    "print(ord('9'))"
   ]
  },
  {
   "cell_type": "code",
   "execution_count": 132,
   "metadata": {},
   "outputs": [
    {
     "data": {
      "text/plain": [
       "'A'"
      ]
     },
     "execution_count": 132,
     "metadata": {},
     "output_type": "execute_result"
    }
   ],
   "source": [
    "chr(65)"
   ]
  },
  {
   "cell_type": "code",
   "execution_count": 133,
   "metadata": {},
   "outputs": [
    {
     "data": {
      "text/plain": [
       "65"
      ]
     },
     "execution_count": 133,
     "metadata": {},
     "output_type": "execute_result"
    }
   ],
   "source": [
    "ord('A')"
   ]
  },
  {
   "cell_type": "code",
   "execution_count": 135,
   "metadata": {},
   "outputs": [
    {
     "name": "stdout",
     "output_type": "stream",
     "text": [
      "abcbac\n"
     ]
    }
   ],
   "source": [
    "data =['abc','bac']\n",
    "print(''.join(data))"
   ]
  },
  {
   "cell_type": "code",
   "execution_count": 138,
   "metadata": {},
   "outputs": [],
   "source": [
    "mys= list('amin saligh')"
   ]
  },
  {
   "cell_type": "code",
   "execution_count": 139,
   "metadata": {},
   "outputs": [
    {
     "data": {
      "text/plain": [
       "'a'"
      ]
     },
     "execution_count": 139,
     "metadata": {},
     "output_type": "execute_result"
    }
   ],
   "source": [
    "mys[0]"
   ]
  },
  {
   "cell_type": "code",
   "execution_count": 1,
   "metadata": {},
   "outputs": [],
   "source": [
    "def reverse_word(s, start, end):\n",
    "    while start < end:\n",
    "        s[start], s[end] = s[end], s[start]\n",
    "        start = start + 1\n",
    "        end -= 1"
   ]
  },
  {
   "cell_type": "code",
   "execution_count": 2,
   "metadata": {},
   "outputs": [],
   "source": [
    "s = \"amin like\""
   ]
  },
  {
   "cell_type": "code",
   "execution_count": 3,
   "metadata": {},
   "outputs": [],
   "source": [
    "s = list(s)\n",
    "start = 0"
   ]
  },
  {
   "cell_type": "code",
   "execution_count": 4,
   "metadata": {},
   "outputs": [],
   "source": [
    "end = s.index(' ',0)"
   ]
  },
  {
   "cell_type": "code",
   "execution_count": 5,
   "metadata": {},
   "outputs": [],
   "source": [
    "reverse_word(s,start,end)"
   ]
  },
  {
   "cell_type": "code",
   "execution_count": 6,
   "metadata": {},
   "outputs": [
    {
     "data": {
      "text/plain": [
       "[' ', 'n', 'i', 'm', 'a', 'l', 'i', 'k', 'e']"
      ]
     },
     "execution_count": 6,
     "metadata": {},
     "output_type": "execute_result"
    }
   ],
   "source": [
    "s"
   ]
  },
  {
   "cell_type": "code",
   "execution_count": 158,
   "metadata": {},
   "outputs": [],
   "source": [
    "s.reverse()"
   ]
  },
  {
   "cell_type": "code",
   "execution_count": 159,
   "metadata": {},
   "outputs": [
    {
     "data": {
      "text/plain": [
       "['e', 'k', 'i', 'l', 'a', 'm', 'i', 'n', ' ']"
      ]
     },
     "execution_count": 159,
     "metadata": {},
     "output_type": "execute_result"
    }
   ],
   "source": [
    "s"
   ]
  },
  {
   "cell_type": "code",
   "execution_count": 161,
   "metadata": {},
   "outputs": [
    {
     "data": {
      "text/plain": [
       "'ekilamin '"
      ]
     },
     "execution_count": 161,
     "metadata": {},
     "output_type": "execute_result"
    }
   ],
   "source": [
    "\"\".join(s)"
   ]
  },
  {
   "cell_type": "code",
   "execution_count": 162,
   "metadata": {},
   "outputs": [
    {
     "name": "stdout",
     "output_type": "stream",
     "text": [
      "Reversed String:\n",
      "much very program this like i\n"
     ]
    }
   ],
   "source": [
    "s = \"i like this program very much\"\n",
    "words = s.split(' ')\n",
    "string =[]\n",
    "for word in words:\n",
    "    string.insert(0, word)\n",
    " \n",
    "print(\"Reversed String:\")\n",
    "print(\" \".join(string))"
   ]
  },
  {
   "cell_type": "code",
   "execution_count": 163,
   "metadata": {},
   "outputs": [
    {
     "data": {
      "text/plain": [
       "['i', 'like', 'this', 'program', 'very', 'much']"
      ]
     },
     "execution_count": 163,
     "metadata": {},
     "output_type": "execute_result"
    }
   ],
   "source": [
    "words"
   ]
  },
  {
   "cell_type": "code",
   "execution_count": 170,
   "metadata": {},
   "outputs": [],
   "source": [
    "mylist =[]"
   ]
  },
  {
   "cell_type": "code",
   "execution_count": 173,
   "metadata": {},
   "outputs": [],
   "source": [
    "mylist.insert(0,'marjan')"
   ]
  },
  {
   "cell_type": "code",
   "execution_count": 174,
   "metadata": {},
   "outputs": [
    {
     "data": {
      "text/plain": [
       "['marjan', 'Amin']"
      ]
     },
     "execution_count": 174,
     "metadata": {},
     "output_type": "execute_result"
    }
   ],
   "source": [
    "mylist"
   ]
  },
  {
   "cell_type": "code",
   "execution_count": 169,
   "metadata": {},
   "outputs": [
    {
     "data": {
      "text/plain": [
       "['much', 'very', 'program', 'this', 'like', 'i']"
      ]
     },
     "execution_count": 169,
     "metadata": {},
     "output_type": "execute_result"
    }
   ],
   "source": [
    "string"
   ]
  },
  {
   "cell_type": "code",
   "execution_count": 1,
   "metadata": {},
   "outputs": [],
   "source": [
    "## Find second largest is a sorted array\n",
    "\n",
    "test1 = [10,9,5,3] # 9\n",
    "test2 = [10,10,5,3] # 5\n",
    "test3 = [10,10,10,3] # 3\n",
    "test4 = [10,10,10,10] # No second largest array'"
   ]
  },
  {
   "cell_type": "code",
   "execution_count": 36,
   "metadata": {},
   "outputs": [],
   "source": [
    "test = [3,9,10,5]"
   ]
  },
  {
   "cell_type": "code",
   "execution_count": 38,
   "metadata": {},
   "outputs": [
    {
     "data": {
      "text/plain": [
       "[10, 9, 5, 3]"
      ]
     },
     "execution_count": 38,
     "metadata": {},
     "output_type": "execute_result"
    }
   ],
   "source": [
    "sorted(test, reverse=True)"
   ]
  },
  {
   "cell_type": "code",
   "execution_count": 2,
   "metadata": {},
   "outputs": [],
   "source": [
    "def secondLarget(array):\n",
    "    for i in range(1, len(array)):\n",
    "        if array[i] != array[0]:\n",
    "            return(array[i])\n",
    "    return('No second largest')    "
   ]
  },
  {
   "cell_type": "code",
   "execution_count": 6,
   "metadata": {},
   "outputs": [
    {
     "data": {
      "text/plain": [
       "'No second largest'"
      ]
     },
     "execution_count": 6,
     "metadata": {},
     "output_type": "execute_result"
    }
   ],
   "source": [
    "secondLarget(test4)"
   ]
  },
  {
   "cell_type": "code",
   "execution_count": 16,
   "metadata": {},
   "outputs": [],
   "source": [
    "# How are duplicates removed from an array without using any library?\n"
   ]
  },
  {
   "cell_type": "code",
   "execution_count": 17,
   "metadata": {},
   "outputs": [],
   "source": [
    "test1 = [1,2,3,3,5,5,5,6,6]"
   ]
  },
  {
   "cell_type": "code",
   "execution_count": 27,
   "metadata": {},
   "outputs": [],
   "source": [
    "def remove_dup(array):\n",
    "    no_dup = []\n",
    "    dup = []\n",
    "    for i in range(len(array)):\n",
    "        if array[i] not in no_dup:\n",
    "            no_dup.append(array[i])\n",
    "        else:\n",
    "            if array[i] not in dup:\n",
    "                dup.append(array[i])\n",
    "    return(no_dup,dup)         "
   ]
  },
  {
   "cell_type": "code",
   "execution_count": 28,
   "metadata": {},
   "outputs": [
    {
     "data": {
      "text/plain": [
       "([1, 2, 3, 5, 6], [3, 5, 6])"
      ]
     },
     "execution_count": 28,
     "metadata": {},
     "output_type": "execute_result"
    }
   ],
   "source": [
    "remove_dup(test1)"
   ]
  },
  {
   "cell_type": "code",
   "execution_count": 29,
   "metadata": {},
   "outputs": [],
   "source": [
    "mylist = ['amin','marjan', 'Saligh', 'Rezvani']"
   ]
  },
  {
   "cell_type": "code",
   "execution_count": 31,
   "metadata": {},
   "outputs": [],
   "source": [
    "mystring = 'amin Salighehdear'"
   ]
  },
  {
   "cell_type": "code",
   "execution_count": 32,
   "metadata": {},
   "outputs": [
    {
     "data": {
      "text/plain": [
       "'amin salighehdear'"
      ]
     },
     "execution_count": 32,
     "metadata": {},
     "output_type": "execute_result"
    }
   ],
   "source": [
    "mystring.lower()"
   ]
  },
  {
   "cell_type": "code",
   "execution_count": 38,
   "metadata": {},
   "outputs": [
    {
     "name": "stdout",
     "output_type": "stream",
     "text": [
      "yes\n"
     ]
    }
   ],
   "source": [
    "if any(word in mystring for word in mylist):\n",
    "    print('yes')"
   ]
  },
  {
   "cell_type": "code",
   "execution_count": 44,
   "metadata": {},
   "outputs": [
    {
     "name": "stdout",
     "output_type": "stream",
     "text": [
      "yes\n"
     ]
    }
   ],
   "source": [
    "if any(word in mystring for word in mylist if word!='Saligh'):\n",
    "    print('yes')"
   ]
  },
  {
   "cell_type": "code",
   "execution_count": 55,
   "metadata": {},
   "outputs": [],
   "source": [
    "#How do you reverse a given string in place?\n",
    "mystring = 'saligh'\n",
    "def reverse_string(s):\n",
    "    rev = []\n",
    "    for s_ in s:\n",
    "        rev.insert(0,s_)\n",
    "    return(\"\".join(rev))    "
   ]
  },
  {
   "cell_type": "code",
   "execution_count": 56,
   "metadata": {},
   "outputs": [
    {
     "data": {
      "text/plain": [
       "'hgilas'"
      ]
     },
     "execution_count": 56,
     "metadata": {},
     "output_type": "execute_result"
    }
   ],
   "source": [
    "reverse_string(mystring)"
   ]
  },
  {
   "cell_type": "code",
   "execution_count": 59,
   "metadata": {},
   "outputs": [],
   "source": [
    "# How do you check if two strings are anagrams of each other?"
   ]
  },
  {
   "cell_type": "code",
   "execution_count": 70,
   "metadata": {},
   "outputs": [],
   "source": [
    "s1 = 'dddd'\n",
    "s2 = 'abcd'\n",
    "# O(nlogn)\n",
    "def is_anagrams(s1, s2):\n",
    "    if len(s1)!=len(s2):\n",
    "        return(False)\n",
    "    s1 = sorted(s1)\n",
    "    s2 = sorted(s2)\n",
    "    for i in range(len(s1)):\n",
    "        if s1[i]!=s2[i]:\n",
    "            return(False)\n",
    "    return(True)     \n",
    "    "
   ]
  },
  {
   "cell_type": "code",
   "execution_count": 71,
   "metadata": {},
   "outputs": [
    {
     "data": {
      "text/plain": [
       "False"
      ]
     },
     "execution_count": 71,
     "metadata": {},
     "output_type": "execute_result"
    }
   ],
   "source": [
    "is_anagrams(s1, s2)"
   ]
  },
  {
   "cell_type": "code",
   "execution_count": 4,
   "metadata": {},
   "outputs": [],
   "source": [
    "\n",
    "\n",
    "def sqr_root(x, l):\n",
    "    a = x\n",
    "    while(1):\n",
    "        x_new = 0.5*(x+a/x)\n",
    "        if (abs(x_new - x) < l):\n",
    "            return(x_new)\n",
    "        else:\n",
    "            x = x_new\n",
    "        \n",
    "        \n",
    "    \n",
    "    \n",
    "    "
   ]
  },
  {
   "cell_type": "code",
   "execution_count": 5,
   "metadata": {},
   "outputs": [
    {
     "data": {
      "text/plain": [
       "4.000000000000051"
      ]
     },
     "execution_count": 5,
     "metadata": {},
     "output_type": "execute_result"
    }
   ],
   "source": [
    "sqr_root(16, 0.00001)"
   ]
  },
  {
   "cell_type": "markdown",
   "metadata": {},
   "source": [
    "## Print all magic square matrix"
   ]
  },
  {
   "cell_type": "code",
   "execution_count": 1,
   "metadata": {},
   "outputs": [],
   "source": [
    "# https://www.geeksforgeeks.org/check-given-matrix-is-magic-square-or-not/"
   ]
  },
  {
   "cell_type": "code",
   "execution_count": 2,
   "metadata": {},
   "outputs": [],
   "source": [
    "mat = [[1,2,3],\n",
    "      [4,5,6],\n",
    "      [7,8,9]]\n",
    "      "
   ]
  },
  {
   "cell_type": "code",
   "execution_count": 3,
   "metadata": {},
   "outputs": [
    {
     "data": {
      "text/plain": [
       "[1, 2, 3]"
      ]
     },
     "execution_count": 3,
     "metadata": {},
     "output_type": "execute_result"
    }
   ],
   "source": [
    "mat[0]"
   ]
  },
  {
   "cell_type": "code",
   "execution_count": 4,
   "metadata": {
    "scrolled": true
   },
   "outputs": [
    {
     "data": {
      "text/plain": [
       "3"
      ]
     },
     "execution_count": 4,
     "metadata": {},
     "output_type": "execute_result"
    }
   ],
   "source": [
    "len(mat[0])"
   ]
  },
  {
   "cell_type": "code",
   "execution_count": 5,
   "metadata": {},
   "outputs": [
    {
     "data": {
      "text/plain": [
       "3"
      ]
     },
     "execution_count": 5,
     "metadata": {},
     "output_type": "execute_result"
    }
   ],
   "source": [
    "len(mat)"
   ]
  },
  {
   "cell_type": "code",
   "execution_count": 19,
   "metadata": {},
   "outputs": [],
   "source": [
    "def isSquareMagic(mat):\n",
    "    N = len(mat) # since mat is a square matrix, number of rows and columns are the same. Otherwise \n",
    "                 # you can get number of columns as M = len(mat[0])\n",
    "    print(N)\n",
    "    #diagonal sum\n",
    "    s = 0\n",
    "    for i in range(0,N):\n",
    "        s += mat[i][i]\n",
    "    # off diagonal\n",
    "    s2 = 0\n",
    "    for i in range(0,N):\n",
    "        s2 += mat[i][N-i-1]\n",
    "    if(s!=s2):\n",
    "        return(False)\n",
    "    #row sum\n",
    "    for i in range(0,N):\n",
    "        rowSum = 0\n",
    "        for j in range(0,N):\n",
    "            rowSum += mat[i][j]\n",
    "        if(rowSum!=s):\n",
    "            return(False)\n",
    "   # col sum\n",
    "    for j in range(0, N):\n",
    "        colSum = 0\n",
    "        for i in range(0, N):\n",
    "            colSum += mat[i][j]\n",
    "        if(colSum!=s):\n",
    "            return(False)\n",
    "    return(True)    \n",
    "        \n",
    "        "
   ]
  },
  {
   "cell_type": "code",
   "execution_count": 20,
   "metadata": {},
   "outputs": [
    {
     "name": "stdout",
     "output_type": "stream",
     "text": [
      "3\n"
     ]
    },
    {
     "data": {
      "text/plain": [
       "False"
      ]
     },
     "execution_count": 20,
     "metadata": {},
     "output_type": "execute_result"
    }
   ],
   "source": [
    "isSquareMagic(mat)"
   ]
  },
  {
   "cell_type": "code",
   "execution_count": 21,
   "metadata": {},
   "outputs": [],
   "source": [
    "mat = [ [ 2, 7, 6 ],\n",
    "        [ 9, 5, 1 ],\n",
    "        [ 4, 3, 8 ] ]"
   ]
  },
  {
   "cell_type": "code",
   "execution_count": 22,
   "metadata": {},
   "outputs": [
    {
     "name": "stdout",
     "output_type": "stream",
     "text": [
      "3\n"
     ]
    },
    {
     "data": {
      "text/plain": [
       "True"
      ]
     },
     "execution_count": 22,
     "metadata": {},
     "output_type": "execute_result"
    }
   ],
   "source": [
    "isSquareMagic(mat)"
   ]
  },
  {
   "cell_type": "code",
   "execution_count": 25,
   "metadata": {},
   "outputs": [
    {
     "name": "stdout",
     "output_type": "stream",
     "text": [
      "[2, 7, 6]\n",
      "[9, 5, 1]\n",
      "[4, 3, 8]\n"
     ]
    }
   ],
   "source": [
    "\n",
    "for i in range(0,len(mat)):\n",
    "    print(mat[i])\n",
    "    "
   ]
  },
  {
   "cell_type": "code",
   "execution_count": 1,
   "metadata": {},
   "outputs": [],
   "source": [
    "# Count maximum possible pairs from an array having sum K\n",
    "def maxPairs(nums, k):\n",
    "     \n",
    "    # Sort array in increasing order\n",
    "    nums = sorted(nums)\n",
    " \n",
    "    # Stores the final result\n",
    "    result = 0\n",
    " \n",
    "    # Initialize the left and right pointers\n",
    "    start, end = 0, len(nums) - 1\n",
    "     \n",
    "    # Traverse array until start < end\n",
    "    while (start < end):\n",
    "        if (nums[start] + nums[end] > k):\n",
    " \n",
    "            # Decrement right by 1\n",
    "            end -= 1\n",
    " \n",
    "        elif (nums[start] + nums[end] < k):\n",
    " \n",
    "            # Increment left by 1\n",
    "            start += 1\n",
    "             \n",
    "        # Increment result and left\n",
    "        # pointer by 1 and decrement\n",
    "        # right pointer by 1\n",
    "        else:\n",
    "            start += 1\n",
    "            end -= 1\n",
    "            result += 1\n",
    " \n",
    "    # Print the result\n",
    "    print(result)"
   ]
  },
  {
   "cell_type": "code",
   "execution_count": 2,
   "metadata": {},
   "outputs": [],
   "source": [
    "mylist = [3, 1, 3, 4, 3, 3, 3, 3]"
   ]
  },
  {
   "cell_type": "code",
   "execution_count": 3,
   "metadata": {},
   "outputs": [
    {
     "name": "stdout",
     "output_type": "stream",
     "text": [
      "3\n"
     ]
    }
   ],
   "source": [
    "maxPairs(mylist, 6)"
   ]
  },
  {
   "cell_type": "code",
   "execution_count": 5,
   "metadata": {},
   "outputs": [
    {
     "data": {
      "text/plain": [
       "[1, 3, 3, 3, 4]"
      ]
     },
     "execution_count": 5,
     "metadata": {},
     "output_type": "execute_result"
    }
   ],
   "source": [
    "sorted(mylist)"
   ]
  },
  {
   "cell_type": "code",
   "execution_count": 4,
   "metadata": {},
   "outputs": [],
   "source": [
    "arr = [1, 2, 3, 1, 3, 6, 6]\n",
    "def find_duplicats(array):\n",
    "    dup = {}\n",
    "    for i in range(0,len(array)):\n",
    "        if array[i] not in dup:\n",
    "            dup[array[i]] = 1\n",
    "        else:\n",
    "            dup[array[i]] += 1\n",
    "    return(dup)        "
   ]
  },
  {
   "cell_type": "code",
   "execution_count": 5,
   "metadata": {},
   "outputs": [
    {
     "data": {
      "text/plain": [
       "{1: 2, 2: 1, 3: 2, 6: 2}"
      ]
     },
     "execution_count": 5,
     "metadata": {},
     "output_type": "execute_result"
    }
   ],
   "source": [
    "find_duplicats(arr)"
   ]
  },
  {
   "cell_type": "code",
   "execution_count": 8,
   "metadata": {},
   "outputs": [],
   "source": [
    "def return_dup_from_dict(myd):\n",
    "    return([k for k, v in myd.items() if v>1])"
   ]
  },
  {
   "cell_type": "code",
   "execution_count": 9,
   "metadata": {},
   "outputs": [
    {
     "data": {
      "text/plain": [
       "[1, 3, 6]"
      ]
     },
     "execution_count": 9,
     "metadata": {},
     "output_type": "execute_result"
    }
   ],
   "source": [
    "return_dup_from_dict(find_duplicats(arr))"
   ]
  },
  {
   "cell_type": "code",
   "execution_count": 12,
   "metadata": {},
   "outputs": [
    {
     "name": "stdout",
     "output_type": "stream",
     "text": [
      "True\n"
     ]
    }
   ],
   "source": [
    "if 'a' not in'cbc':\n",
    "    print(True)"
   ]
  },
  {
   "cell_type": "code",
   "execution_count": 2,
   "metadata": {},
   "outputs": [],
   "source": [
    "test = pd.DataFrame({'id':['amin saligh', 'Marjan Rez'],\n",
    "                    'number':['917-434-4853','917-680-9928']})"
   ]
  },
  {
   "cell_type": "code",
   "execution_count": 3,
   "metadata": {},
   "outputs": [
    {
     "data": {
      "text/html": [
       "<div>\n",
       "<style scoped>\n",
       "    .dataframe tbody tr th:only-of-type {\n",
       "        vertical-align: middle;\n",
       "    }\n",
       "\n",
       "    .dataframe tbody tr th {\n",
       "        vertical-align: top;\n",
       "    }\n",
       "\n",
       "    .dataframe thead th {\n",
       "        text-align: right;\n",
       "    }\n",
       "</style>\n",
       "<table border=\"1\" class=\"dataframe\">\n",
       "  <thead>\n",
       "    <tr style=\"text-align: right;\">\n",
       "      <th></th>\n",
       "      <th>id</th>\n",
       "      <th>number</th>\n",
       "    </tr>\n",
       "  </thead>\n",
       "  <tbody>\n",
       "    <tr>\n",
       "      <th>0</th>\n",
       "      <td>amin saligh</td>\n",
       "      <td>917-434-4853</td>\n",
       "    </tr>\n",
       "    <tr>\n",
       "      <th>1</th>\n",
       "      <td>Marjan Rez</td>\n",
       "      <td>917-680-9928</td>\n",
       "    </tr>\n",
       "  </tbody>\n",
       "</table>\n",
       "</div>"
      ],
      "text/plain": [
       "            id        number\n",
       "0  amin saligh  917-434-4853\n",
       "1   Marjan Rez  917-680-9928"
      ]
     },
     "execution_count": 3,
     "metadata": {},
     "output_type": "execute_result"
    }
   ],
   "source": [
    "test"
   ]
  },
  {
   "cell_type": "code",
   "execution_count": 5,
   "metadata": {},
   "outputs": [
    {
     "name": "stdout",
     "output_type": "stream",
     "text": [
      "amin saligh\n",
      "Marjan Rez\n"
     ]
    }
   ],
   "source": [
    "for idx, row in test.iterrows():\n",
    "    print(row['id'])"
   ]
  },
  {
   "cell_type": "code",
   "execution_count": 16,
   "metadata": {},
   "outputs": [],
   "source": [
    "test['id_strip'] = test.apply(lambda row:row['id'].replace(\" \",\"\"), axis=1)"
   ]
  },
  {
   "cell_type": "code",
   "execution_count": 18,
   "metadata": {},
   "outputs": [],
   "source": [
    "test['number_strip'] = test.apply(lambda row:row['number'].replace(\"-\",\"\"), axis=1)"
   ]
  },
  {
   "cell_type": "code",
   "execution_count": 19,
   "metadata": {},
   "outputs": [
    {
     "data": {
      "text/html": [
       "<div>\n",
       "<style scoped>\n",
       "    .dataframe tbody tr th:only-of-type {\n",
       "        vertical-align: middle;\n",
       "    }\n",
       "\n",
       "    .dataframe tbody tr th {\n",
       "        vertical-align: top;\n",
       "    }\n",
       "\n",
       "    .dataframe thead th {\n",
       "        text-align: right;\n",
       "    }\n",
       "</style>\n",
       "<table border=\"1\" class=\"dataframe\">\n",
       "  <thead>\n",
       "    <tr style=\"text-align: right;\">\n",
       "      <th></th>\n",
       "      <th>id</th>\n",
       "      <th>number</th>\n",
       "      <th>id_strip</th>\n",
       "      <th>number_strip</th>\n",
       "    </tr>\n",
       "  </thead>\n",
       "  <tbody>\n",
       "    <tr>\n",
       "      <th>0</th>\n",
       "      <td>amin saligh</td>\n",
       "      <td>917-434-4853</td>\n",
       "      <td>aminsaligh</td>\n",
       "      <td>9174344853</td>\n",
       "    </tr>\n",
       "    <tr>\n",
       "      <th>1</th>\n",
       "      <td>Marjan Rez</td>\n",
       "      <td>917-680-9928</td>\n",
       "      <td>MarjanRez</td>\n",
       "      <td>9176809928</td>\n",
       "    </tr>\n",
       "  </tbody>\n",
       "</table>\n",
       "</div>"
      ],
      "text/plain": [
       "            id        number    id_strip number_strip\n",
       "0  amin saligh  917-434-4853  aminsaligh   9174344853\n",
       "1   Marjan Rez  917-680-9928   MarjanRez   9176809928"
      ]
     },
     "execution_count": 19,
     "metadata": {},
     "output_type": "execute_result"
    }
   ],
   "source": [
    "test"
   ]
  },
  {
   "cell_type": "code",
   "execution_count": 14,
   "metadata": {},
   "outputs": [
    {
     "data": {
      "text/plain": [
       "'aminsaligh'"
      ]
     },
     "execution_count": 14,
     "metadata": {},
     "output_type": "execute_result"
    }
   ],
   "source": [
    "'amin saligh'.replace(' ',\"\")"
   ]
  },
  {
   "cell_type": "code",
   "execution_count": 20,
   "metadata": {},
   "outputs": [],
   "source": [
    "def modify_phone_number (s):\n",
    "    return s[:3] + '-' + s[3:6] + '-' + s[6:]"
   ]
  },
  {
   "cell_type": "code",
   "execution_count": 21,
   "metadata": {},
   "outputs": [
    {
     "data": {
      "text/plain": [
       "'917-434-4853'"
      ]
     },
     "execution_count": 21,
     "metadata": {},
     "output_type": "execute_result"
    }
   ],
   "source": [
    "modify_phone_number('9174344853')"
   ]
  },
  {
   "cell_type": "code",
   "execution_count": 22,
   "metadata": {},
   "outputs": [],
   "source": [
    "test['modified_phone_number'] = test.apply(lambda row:modify_phone_number(row['number_strip']), axis=1)"
   ]
  },
  {
   "cell_type": "code",
   "execution_count": 23,
   "metadata": {},
   "outputs": [
    {
     "data": {
      "text/html": [
       "<div>\n",
       "<style scoped>\n",
       "    .dataframe tbody tr th:only-of-type {\n",
       "        vertical-align: middle;\n",
       "    }\n",
       "\n",
       "    .dataframe tbody tr th {\n",
       "        vertical-align: top;\n",
       "    }\n",
       "\n",
       "    .dataframe thead th {\n",
       "        text-align: right;\n",
       "    }\n",
       "</style>\n",
       "<table border=\"1\" class=\"dataframe\">\n",
       "  <thead>\n",
       "    <tr style=\"text-align: right;\">\n",
       "      <th></th>\n",
       "      <th>id</th>\n",
       "      <th>number</th>\n",
       "      <th>id_strip</th>\n",
       "      <th>number_strip</th>\n",
       "      <th>modified_phone_number</th>\n",
       "    </tr>\n",
       "  </thead>\n",
       "  <tbody>\n",
       "    <tr>\n",
       "      <th>0</th>\n",
       "      <td>amin saligh</td>\n",
       "      <td>917-434-4853</td>\n",
       "      <td>aminsaligh</td>\n",
       "      <td>9174344853</td>\n",
       "      <td>917-434-4853</td>\n",
       "    </tr>\n",
       "    <tr>\n",
       "      <th>1</th>\n",
       "      <td>Marjan Rez</td>\n",
       "      <td>917-680-9928</td>\n",
       "      <td>MarjanRez</td>\n",
       "      <td>9176809928</td>\n",
       "      <td>917-680-9928</td>\n",
       "    </tr>\n",
       "  </tbody>\n",
       "</table>\n",
       "</div>"
      ],
      "text/plain": [
       "            id        number    id_strip number_strip modified_phone_number\n",
       "0  amin saligh  917-434-4853  aminsaligh   9174344853          917-434-4853\n",
       "1   Marjan Rez  917-680-9928   MarjanRez   9176809928          917-680-9928"
      ]
     },
     "execution_count": 23,
     "metadata": {},
     "output_type": "execute_result"
    }
   ],
   "source": [
    "test"
   ]
  },
  {
   "cell_type": "code",
   "execution_count": 2,
   "metadata": {},
   "outputs": [],
   "source": [
    "# newton method to find a root of a function\n",
    "# f(x) = x^2 -4*x -7\n"
   ]
  },
  {
   "cell_type": "code",
   "execution_count": 7,
   "metadata": {},
   "outputs": [],
   "source": [
    "def f(x):\n",
    "    return(x**2 - 4*x -7)\n",
    "\n",
    "def f_prime(x):\n",
    "    return(2*x - 4)"
   ]
  },
  {
   "cell_type": "code",
   "execution_count": 8,
   "metadata": {},
   "outputs": [],
   "source": [
    "from sys import maxsize \n",
    "def newton(x_start, eps):\n",
    "    i = maxsize\n",
    "    while (i >= eps):\n",
    "        x_new = x_start - f(x_start)/f_prime(x_start)\n",
    "        i = abs(x_new - x_start)\n",
    "        x_start = x_new\n",
    "    return(x_new)     \n",
    "    "
   ]
  },
  {
   "cell_type": "code",
   "execution_count": 9,
   "metadata": {
    "scrolled": true
   },
   "outputs": [
    {
     "data": {
      "text/plain": [
       "5.316624790619765"
      ]
     },
     "execution_count": 9,
     "metadata": {},
     "output_type": "execute_result"
    }
   ],
   "source": [
    "newton(5, 0.0001)"
   ]
  },
  {
   "cell_type": "code",
   "execution_count": 10,
   "metadata": {},
   "outputs": [
    {
     "name": "stdout",
     "output_type": "stream",
     "text": [
      "9223372036854775807\n"
     ]
    }
   ],
   "source": [
    "print(maxsize)"
   ]
  },
  {
   "cell_type": "code",
   "execution_count": null,
   "metadata": {},
   "outputs": [],
   "source": [
    "# use newton to find a root\n",
    "# sqrt(x) = a \n",
    "# f(x) = x - a^2\n",
    "# f_prime(x) = 1"
   ]
  },
  {
   "cell_type": "code",
   "execution_count": 7,
   "metadata": {},
   "outputs": [],
   "source": [
    "def f(x, a):\n",
    "    return(a - x**2)\n",
    "def f_prime(x):\n",
    "    return(-2*x)"
   ]
  },
  {
   "cell_type": "code",
   "execution_count": 8,
   "metadata": {},
   "outputs": [],
   "source": [
    "from sys import maxsize \n",
    "def newton_root(num, x_start, eps):\n",
    "    i = maxsize\n",
    "    while (i >= eps):\n",
    "        x_new = x_start - f(x_start, num)/f_prime(x_start)\n",
    "        i = abs(x_new - x_start)\n",
    "        x_start = x_new\n",
    "    return(x_new)  "
   ]
  },
  {
   "cell_type": "code",
   "execution_count": 9,
   "metadata": {},
   "outputs": [
    {
     "data": {
      "text/plain": [
       "4.79583152331272"
      ]
     },
     "execution_count": 9,
     "metadata": {},
     "output_type": "execute_result"
    }
   ],
   "source": [
    "newton_root(23, 4, 0.00001)"
   ]
  },
  {
   "cell_type": "code",
   "execution_count": 14,
   "metadata": {},
   "outputs": [],
   "source": [
    "mymat = [[1,2,3], [4,5,6]]"
   ]
  },
  {
   "cell_type": "code",
   "execution_count": 17,
   "metadata": {},
   "outputs": [
    {
     "data": {
      "text/plain": [
       "(2, 3)"
      ]
     },
     "execution_count": 17,
     "metadata": {},
     "output_type": "execute_result"
    }
   ],
   "source": [
    "np.array(mymat).shape"
   ]
  },
  {
   "cell_type": "code",
   "execution_count": 4,
   "metadata": {},
   "outputs": [
    {
     "name": "stdout",
     "output_type": "stream",
     "text": [
      "number of observation is 1000\n"
     ]
    }
   ],
   "source": [
    "print('number of observation is {num_obs}'.format(num_strudent=2000,num_obs=1000))"
   ]
  },
  {
   "cell_type": "code",
   "execution_count": null,
   "metadata": {},
   "outputs": [],
   "source": []
  }
 ],
 "metadata": {
  "kernelspec": {
   "display_name": "Python 3",
   "language": "python",
   "name": "python3"
  },
  "language_info": {
   "codemirror_mode": {
    "name": "ipython",
    "version": 3
   },
   "file_extension": ".py",
   "mimetype": "text/x-python",
   "name": "python",
   "nbconvert_exporter": "python",
   "pygments_lexer": "ipython3",
   "version": "3.7.2"
  }
 },
 "nbformat": 4,
 "nbformat_minor": 2
}
