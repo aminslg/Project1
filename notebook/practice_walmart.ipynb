{
 "cells": [
  {
   "cell_type": "code",
   "execution_count": 15,
   "metadata": {},
   "outputs": [],
   "source": [
    "def is_square_magic(mat):\n",
    "    n = len(mat)\n",
    "    sum_diag = 0.0\n",
    "    sum_off_diag = 0.0\n",
    "    sum_row = 0.0\n",
    "    sum_col = 0.0\n",
    "    \n",
    "    for i in range(n):\n",
    "        sum_diag += mat[i][i]\n",
    "        \n",
    "    for i in range(n):\n",
    "        sum_off_diag += mat[i][n-i-1]\n",
    "    \n",
    "    if sum_diag!=sum_off_diag:\n",
    "        return False\n",
    "    \n",
    "    for i in range(n):\n",
    "        for j in range(n):\n",
    "            sum_row += mat[i][j]\n",
    "        if sum_row!=sum_diag:\n",
    "            return False\n",
    "        else:\n",
    "            sum_row = 0.0\n",
    "            \n",
    "    for j in range(n):\n",
    "        for i in range(n):\n",
    "            sum_col += mat[i][j]\n",
    "        if sum_col != sum_diag:\n",
    "            return False\n",
    "        else:\n",
    "            sum_col = 0.0\n",
    "    return True         \n",
    "            \n",
    "# Count maximum possible pairs from an array having sum K\n",
    "def max_pair_given_sum(mylist, mysum):\n",
    "    mylist = sorted(mylist)\n",
    "    cnt = 0\n",
    "    start, end = 0, len(mylist) - 1\n",
    "    while(start<end):\n",
    "        if (mylist[start] + mylist[end]) > mysum:\n",
    "            end -= 1\n",
    "        elif (mylist[start] + mylist[end]) < mysum:  \n",
    "            start += 1\n",
    "        else:\n",
    "            start += 1\n",
    "            end -= 1\n",
    "            cnt += 1\n",
    "    return(cnt)  \n",
    "\n",
    "# Find duplicates in a list\n",
    "def find_dup(mylist):\n",
    "    dup_dict = {}\n",
    "    for n_ in mylist:\n",
    "        if n_ not in dup_dict:\n",
    "            dup_dict[n_] = 1\n",
    "        else:\n",
    "            dup_dict[n_] += 1\n",
    "    return([k for k, v in dup_dict.items() if v>1])        \n",
    "            \n",
    " \n",
    "\n",
    "            \n",
    "            \n",
    "            \n",
    "            \n",
    "    \n",
    "      \n",
    "        \n",
    "    \n",
    "    \n",
    "    \n",
    "    \n",
    "    \n",
    "    "
   ]
  },
  {
   "cell_type": "code",
   "execution_count": 10,
   "metadata": {},
   "outputs": [],
   "source": [
    "mat = [ [ 2, 7, 6 ],\n",
    "        [ 9, 5, 1 ],\n",
    "        [ 4, 0, 8 ] ]"
   ]
  },
  {
   "cell_type": "code",
   "execution_count": 11,
   "metadata": {},
   "outputs": [
    {
     "data": {
      "text/plain": [
       "False"
      ]
     },
     "execution_count": 11,
     "metadata": {},
     "output_type": "execute_result"
    }
   ],
   "source": [
    "is_square_magic(mat)"
   ]
  },
  {
   "cell_type": "code",
   "execution_count": 12,
   "metadata": {},
   "outputs": [
    {
     "data": {
      "text/plain": [
       "2"
      ]
     },
     "execution_count": 12,
     "metadata": {},
     "output_type": "execute_result"
    }
   ],
   "source": [
    "max_pair_given_sum([5, 4, 1, 2, 8, 9], 9)"
   ]
  },
  {
   "cell_type": "code",
   "execution_count": 16,
   "metadata": {},
   "outputs": [
    {
     "data": {
      "text/plain": [
       "[1, 3, 6]"
      ]
     },
     "execution_count": 16,
     "metadata": {},
     "output_type": "execute_result"
    }
   ],
   "source": [
    "find_dup([1, 2, 3, 1, 3, 6, 6])"
   ]
  },
  {
   "cell_type": "code",
   "execution_count": null,
   "metadata": {},
   "outputs": [],
   "source": []
  },
  {
   "cell_type": "code",
   "execution_count": null,
   "metadata": {},
   "outputs": [],
   "source": []
  },
  {
   "cell_type": "code",
   "execution_count": null,
   "metadata": {},
   "outputs": [],
   "source": []
  },
  {
   "cell_type": "code",
   "execution_count": null,
   "metadata": {},
   "outputs": [],
   "source": []
  }
 ],
 "metadata": {
  "kernelspec": {
   "display_name": "Python 3",
   "language": "python",
   "name": "python3"
  },
  "language_info": {
   "codemirror_mode": {
    "name": "ipython",
    "version": 3
   },
   "file_extension": ".py",
   "mimetype": "text/x-python",
   "name": "python",
   "nbconvert_exporter": "python",
   "pygments_lexer": "ipython3",
   "version": "3.7.2"
  }
 },
 "nbformat": 4,
 "nbformat_minor": 2
}
