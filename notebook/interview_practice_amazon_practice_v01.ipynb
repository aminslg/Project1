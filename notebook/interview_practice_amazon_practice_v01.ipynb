{
 "cells": [
  {
   "cell_type": "code",
   "execution_count": 22,
   "metadata": {},
   "outputs": [],
   "source": [
    "import numpy as np\n",
    "import pandas as pd\n",
    "from sys import maxsize"
   ]
  },
  {
   "cell_type": "code",
   "execution_count": 2,
   "metadata": {},
   "outputs": [],
   "source": [
    "def sum(n):\n",
    "    sum_ = 0\n",
    "    for i in range(1,n+1):\n",
    "        sum_ += i\n",
    "    return(sum_)    \n",
    "    "
   ]
  },
  {
   "cell_type": "code",
   "execution_count": 4,
   "metadata": {},
   "outputs": [
    {
     "data": {
      "text/plain": [
       "15"
      ]
     },
     "execution_count": 4,
     "metadata": {},
     "output_type": "execute_result"
    }
   ],
   "source": [
    "sum(5)"
   ]
  },
  {
   "cell_type": "code",
   "execution_count": 5,
   "metadata": {},
   "outputs": [],
   "source": [
    "def sum_rec(n):\n",
    "    if n==1:\n",
    "        return(1)\n",
    "    else:\n",
    "        return(n + sum_rec(n-1))"
   ]
  },
  {
   "cell_type": "code",
   "execution_count": 7,
   "metadata": {},
   "outputs": [
    {
     "data": {
      "text/plain": [
       "15"
      ]
     },
     "execution_count": 7,
     "metadata": {},
     "output_type": "execute_result"
    }
   ],
   "source": [
    "sum_rec(5)"
   ]
  },
  {
   "cell_type": "code",
   "execution_count": 18,
   "metadata": {},
   "outputs": [],
   "source": [
    "def binary_search(array, x, l, r):\n",
    "    while (l <= r):\n",
    "        mid = l + (r-l)//2\n",
    "        if array[mid] == x:\n",
    "            return(mid)\n",
    "        elif x < array[mid]:\n",
    "            return(binary_search(array, x, l, mid-1))\n",
    "        else:\n",
    "            return(binary_search(array, x, mid+1, r))\n",
    "    print('x not found in the array')     "
   ]
  },
  {
   "cell_type": "code",
   "execution_count": 21,
   "metadata": {
    "scrolled": true
   },
   "outputs": [
    {
     "name": "stdout",
     "output_type": "stream",
     "text": [
      "x not found in the array\n"
     ]
    }
   ],
   "source": [
    "myarray = [2,3,4,5,6]\n",
    "binary_search(myarray, 7, 0, len(myarray)-1)"
   ]
  },
  {
   "cell_type": "code",
   "execution_count": 34,
   "metadata": {},
   "outputs": [],
   "source": [
    "myarray = [1,2,-5,10,1]\n",
    "myarray2 = [-1,-1,3, 5]\n",
    "def max_sub_array(array):\n",
    "    max_so_far = -maxsize\n",
    "    current_sum = 0\n",
    "    start_idx = 0\n",
    "    end_idx = 0\n",
    "    for i in range(len(array)): # i: 0,1,2,3,4\n",
    "        current_sum += array[i] # 1, 3, -2, 10, 11\n",
    "        if current_sum > max_so_far:\n",
    "            max_so_far = current_sum # 1, 3, 10, 11\n",
    "            s = start_idx\n",
    "            end_idx = i # 0, 1, 3\n",
    "        if current_sum < 0:\n",
    "            current_sum = 0\n",
    "            start_idx = i+1 # 3\n",
    "    return(max_so_far, s, end_idx)            "
   ]
  },
  {
   "cell_type": "code",
   "execution_count": 35,
   "metadata": {},
   "outputs": [
    {
     "data": {
      "text/plain": [
       "(3, 0, 1)"
      ]
     },
     "execution_count": 35,
     "metadata": {},
     "output_type": "execute_result"
    }
   ],
   "source": [
    "max_sub_array([1,2,-5,-3,-4])"
   ]
  },
  {
   "cell_type": "code",
   "execution_count": 53,
   "metadata": {},
   "outputs": [],
   "source": [
    "myarray = [1,2,-5,3,5]\n",
    "def smallest_missing_positive(array):\n",
    "    if max(array) < 0:\n",
    "        return(1)\n",
    "    if len(array)==1:\n",
    "        return 2 if array[0]==1 else 1\n",
    "    \n",
    "    \n",
    "    tmp = [0]*max(array)\n",
    "    #print(tmp)\n",
    "    for i in range(len(array)):\n",
    "        if(array[i]>0):\n",
    "            if (tmp[array[i]-1]==0):\n",
    "                tmp[array[i]-1] = 1\n",
    "    for j in range(len(tmp)):\n",
    "        #print(j)\n",
    "        if(tmp[j]==0):\n",
    "            return(j+1)\n",
    "    return(j+2)    \n",
    "    "
   ]
  },
  {
   "cell_type": "code",
   "execution_count": 56,
   "metadata": {},
   "outputs": [
    {
     "data": {
      "text/plain": [
       "2"
      ]
     },
     "execution_count": 56,
     "metadata": {},
     "output_type": "execute_result"
    }
   ],
   "source": [
    "smallest_missing_positive([1])"
   ]
  },
  {
   "cell_type": "code",
   "execution_count": 57,
   "metadata": {},
   "outputs": [],
   "source": [
    "def isPrime(num):\n",
    "    if num <=1:\n",
    "        return(False)\n",
    "    if num==2:\n",
    "        return(True)\n",
    "    for i in range(2,num):\n",
    "        if num%i==0:\n",
    "            return(False)\n",
    "    return(True)     "
   ]
  },
  {
   "cell_type": "code",
   "execution_count": 61,
   "metadata": {},
   "outputs": [
    {
     "data": {
      "text/plain": [
       "False"
      ]
     },
     "execution_count": 61,
     "metadata": {},
     "output_type": "execute_result"
    }
   ],
   "source": [
    "isPrime(25)"
   ]
  },
  {
   "cell_type": "code",
   "execution_count": 64,
   "metadata": {},
   "outputs": [],
   "source": [
    "def repeated_char(string):\n",
    "    tmp = {}\n",
    "    for s_ in string:\n",
    "        if s_ not in tmp:\n",
    "            tmp[s_] = 1\n",
    "        else:\n",
    "            tmp[s_] += 1\n",
    "    return([(k,v) for k, v in tmp.items() if v>=2])        "
   ]
  },
  {
   "cell_type": "code",
   "execution_count": 67,
   "metadata": {},
   "outputs": [
    {
     "data": {
      "text/plain": [
       "[('a', 3), ('d', 4), ('e', 2)]"
      ]
     },
     "execution_count": 67,
     "metadata": {},
     "output_type": "execute_result"
    }
   ],
   "source": [
    "repeated_char('abcdeaddade')"
   ]
  },
  {
   "cell_type": "code",
   "execution_count": 68,
   "metadata": {},
   "outputs": [],
   "source": [
    "test = {'a':3, 'd':4, 'e':2}"
   ]
  },
  {
   "cell_type": "code",
   "execution_count": 69,
   "metadata": {},
   "outputs": [
    {
     "data": {
      "text/plain": [
       "{'a': 3, 'd': 4, 'e': 2}"
      ]
     },
     "execution_count": 69,
     "metadata": {},
     "output_type": "execute_result"
    }
   ],
   "source": [
    "test"
   ]
  },
  {
   "cell_type": "code",
   "execution_count": 80,
   "metadata": {},
   "outputs": [
    {
     "data": {
      "text/plain": [
       "[('d', 4), ('a', 3), ('e', 2)]"
      ]
     },
     "execution_count": 80,
     "metadata": {},
     "output_type": "execute_result"
    }
   ],
   "source": [
    "sorted(test.items(), key=lambda x:x[1], reverse=True)"
   ]
  },
  {
   "cell_type": "code",
   "execution_count": 83,
   "metadata": {},
   "outputs": [
    {
     "data": {
      "text/plain": [
       "0.2690391354078495"
      ]
     },
     "execution_count": 83,
     "metadata": {},
     "output_type": "execute_result"
    }
   ],
   "source": [
    "np.random.uniform()"
   ]
  },
  {
   "cell_type": "code",
   "execution_count": 86,
   "metadata": {},
   "outputs": [],
   "source": [
    "def PI_MC(M):\n",
    "    cnt = 0\n",
    "    for i in range(M):\n",
    "        x = np.random.uniform(-1,1)\n",
    "        y = np.random.uniform(-1,1)\n",
    "        if ( (x**2 + y**2)<=1):\n",
    "            cnt += 1\n",
    "    return(4*cnt/M)        \n",
    "        "
   ]
  },
  {
   "cell_type": "code",
   "execution_count": 88,
   "metadata": {},
   "outputs": [
    {
     "data": {
      "text/plain": [
       "3.143928"
      ]
     },
     "execution_count": 88,
     "metadata": {},
     "output_type": "execute_result"
    }
   ],
   "source": [
    "PI_MC(1000000)"
   ]
  },
  {
   "cell_type": "code",
   "execution_count": 118,
   "metadata": {},
   "outputs": [],
   "source": [
    "def get_digits(num):\n",
    "    digit = []\n",
    "    s_ = 0\n",
    "    if num <10:\n",
    "        digit.append(num)\n",
    "        s_ += num\n",
    "        return(digit, s_)\n",
    "    while (num >=10):\n",
    "        digit.append(num%10)\n",
    "        s_ += num%10\n",
    "        num = num//10\n",
    "    digit.append(num)\n",
    "    s_ += num\n",
    "    return(digit[::-1], s_)\n",
    "        "
   ]
  },
  {
   "cell_type": "code",
   "execution_count": 121,
   "metadata": {},
   "outputs": [
    {
     "data": {
      "text/plain": [
       "([9, 1, 0], 10)"
      ]
     },
     "execution_count": 121,
     "metadata": {},
     "output_type": "execute_result"
    }
   ],
   "source": [
    "get_digits(910)"
   ]
  },
  {
   "cell_type": "code",
   "execution_count": 101,
   "metadata": {},
   "outputs": [],
   "source": [
    "mylist = [4,5,6]"
   ]
  },
  {
   "cell_type": "code",
   "execution_count": 109,
   "metadata": {},
   "outputs": [
    {
     "data": {
      "text/plain": [
       "[6, 5, 4]"
      ]
     },
     "execution_count": 109,
     "metadata": {},
     "output_type": "execute_result"
    }
   ],
   "source": [
    "mylist[::-1]"
   ]
  },
  {
   "cell_type": "code",
   "execution_count": 158,
   "metadata": {},
   "outputs": [],
   "source": [
    "def reverse_char(s, start, end):\n",
    "    while start < end:\n",
    "        s[start], s[end] = s[end], s[start]\n",
    "        start = start + 1\n",
    "        end -= 1\n",
    "    return(\"\".join(s)) "
   ]
  },
  {
   "cell_type": "code",
   "execution_count": 159,
   "metadata": {},
   "outputs": [
    {
     "data": {
      "text/plain": [
       "9"
      ]
     },
     "execution_count": 159,
     "metadata": {},
     "output_type": "execute_result"
    }
   ],
   "source": [
    "len('amin like')"
   ]
  },
  {
   "cell_type": "code",
   "execution_count": 160,
   "metadata": {},
   "outputs": [
    {
     "data": {
      "text/plain": [
       "'ekil nima'"
      ]
     },
     "execution_count": 160,
     "metadata": {},
     "output_type": "execute_result"
    }
   ],
   "source": [
    "s = \"amin like\"\n",
    "start = 0\n",
    "end = len(s)\n",
    "reverse_char(list(s), start, end-1)"
   ]
  },
  {
   "cell_type": "code",
   "execution_count": 161,
   "metadata": {},
   "outputs": [
    {
     "data": {
      "text/plain": [
       "['amin', 'likes']"
      ]
     },
     "execution_count": 161,
     "metadata": {},
     "output_type": "execute_result"
    }
   ],
   "source": [
    "'amin likes'.split(\" \")"
   ]
  },
  {
   "cell_type": "code",
   "execution_count": 164,
   "metadata": {},
   "outputs": [],
   "source": [
    "def reverse_word(word):\n",
    "    wrd_list = word.split(\" \")\n",
    "    return(\" \".join(wrd_list[::-1]))\n",
    "    "
   ]
  },
  {
   "cell_type": "code",
   "execution_count": 165,
   "metadata": {},
   "outputs": [
    {
     "data": {
      "text/plain": [
       "'likes amin'"
      ]
     },
     "execution_count": 165,
     "metadata": {},
     "output_type": "execute_result"
    }
   ],
   "source": [
    "reverse_word('amin likes')"
   ]
  },
  {
   "cell_type": "code",
   "execution_count": 215,
   "metadata": {},
   "outputs": [],
   "source": [
    "def remove_duplicates(array):\n",
    "    dup = []\n",
    "    no_dup = []\n",
    "    for i in range(len(array)):\n",
    "        if array[i] not in no_dup:\n",
    "            no_dup.append(array[i])\n",
    "        else:\n",
    "            dup.append(array[i])\n",
    "    return(no_dup, dup)        "
   ]
  },
  {
   "cell_type": "code",
   "execution_count": 216,
   "metadata": {},
   "outputs": [],
   "source": [
    "test1 = [1,2,3,3,5,5,5,6,6]"
   ]
  },
  {
   "cell_type": "code",
   "execution_count": 217,
   "metadata": {
    "scrolled": true
   },
   "outputs": [
    {
     "data": {
      "text/plain": [
       "([1, 2, 3, 5, 6], [3, 5, 5, 6])"
      ]
     },
     "execution_count": 217,
     "metadata": {},
     "output_type": "execute_result"
    }
   ],
   "source": [
    "remove_duplicates(test1)"
   ]
  },
  {
   "cell_type": "code",
   "execution_count": 218,
   "metadata": {},
   "outputs": [],
   "source": [
    "krwrds =['amin', 'saligh', 'marjan']\n",
    "mystring = 'amin saligh likes marjan'"
   ]
  },
  {
   "cell_type": "code",
   "execution_count": 222,
   "metadata": {},
   "outputs": [
    {
     "name": "stdout",
     "output_type": "stream",
     "text": [
      "all key words found in the string\n"
     ]
    }
   ],
   "source": [
    "if all([w_ in mystring for w_ in krwrds]):\n",
    "    print('all key words found in the string')"
   ]
  },
  {
   "cell_type": "code",
   "execution_count": 167,
   "metadata": {},
   "outputs": [
    {
     "data": {
      "text/plain": [
       "[1, 2, 3, 5, 6]"
      ]
     },
     "execution_count": 167,
     "metadata": {},
     "output_type": "execute_result"
    }
   ],
   "source": [
    "list(set(test1))"
   ]
  },
  {
   "cell_type": "code",
   "execution_count": 175,
   "metadata": {},
   "outputs": [],
   "source": [
    "if 1 not in test1:\n",
    "    print(True)"
   ]
  },
  {
   "cell_type": "code",
   "execution_count": 188,
   "metadata": {},
   "outputs": [],
   "source": [
    "if test1[3] not in [1,2,3]:\n",
    "    print(test1[3])\n",
    "    print(True)"
   ]
  },
  {
   "cell_type": "code",
   "execution_count": null,
   "metadata": {},
   "outputs": [],
   "source": []
  },
  {
   "cell_type": "code",
   "execution_count": null,
   "metadata": {},
   "outputs": [],
   "source": []
  }
 ],
 "metadata": {
  "kernelspec": {
   "display_name": "Python 3",
   "language": "python",
   "name": "python3"
  },
  "language_info": {
   "codemirror_mode": {
    "name": "ipython",
    "version": 3
   },
   "file_extension": ".py",
   "mimetype": "text/x-python",
   "name": "python",
   "nbconvert_exporter": "python",
   "pygments_lexer": "ipython3",
   "version": "3.7.2"
  }
 },
 "nbformat": 4,
 "nbformat_minor": 2
}
